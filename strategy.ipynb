{
 "cells": [
  {
   "cell_type": "markdown",
   "metadata": {},
   "source": [
    "# Momentum Submission Raw Template\n",
    "\n",
    "This simple template provides the shortest and quickest implementation of the strategy explained in the 10-minute Momentum Template."
   ]
  },
  {
   "cell_type": "code",
   "execution_count": null,
   "metadata": {},
   "outputs": [],
   "source": [
    "import xarray as xr\n",
    "import qnt.data as qndata\n",
    "import qnt.stats as qnstats\n",
    "\n",
    "data = qndata.load_data(min_date=\"2015-01-01\",\n",
    "                        dims=(\"time\", \"field\", \"asset\"))\n",
    "\n",
    "is_liquid = data.loc[::-1,\"is_liquid\",:]\n",
    "prices = data.loc[::-1, \"close\",:]\n",
    "\n",
    "prices_shifted = prices.shift({\"time\":1})\n",
    "returns = (prices - prices_shifted)/prices_shifted\n",
    "avg_returns = returns.rolling({\"time\":100}).mean()\n",
    "liq_avg_returns = (is_liquid > 0.0).astype(int) * avg_returns\n",
    "\n",
    "weights = liq_avg_returns / abs(liq_avg_returns).sum(\"asset\")\n",
    "weights = weights.fillna(0.0)\n",
    "\n",
    "qnstats.print_correlation(weights, data)\n",
    "\n",
    "qndata.write_output(weights)"
   ]
  },
  {
   "cell_type": "code",
   "execution_count": null,
   "metadata": {},
   "outputs": [],
   "source": []
  }
 ],
 "metadata": {
  "kernelspec": {
   "display_name": "Python 3",
   "language": "python",
   "name": "python3"
  },
  "language_info": {
   "codemirror_mode": {
    "name": "ipython",
    "version": 3
   },
   "file_extension": ".py",
   "mimetype": "text/x-python",
   "name": "python",
   "nbconvert_exporter": "python",
   "pygments_lexer": "ipython3",
   "version": "3.7.3"
  }
 },
 "nbformat": 4,
 "nbformat_minor": 2
}
